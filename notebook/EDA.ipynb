{
 "cells": [
  {
   "cell_type": "markdown",
   "id": "23f8a090-56b3-4324-bc3d-decb8a7c1027",
   "metadata": {},
   "source": [
    "## Vehicle Application EDA\n",
    "\n",
    "**Select Menu By Car Model**\n",
    "\n",
    "We will analyze the car data to organize the information for a select menu where customers can choose the car model they are interested in and view the information about each of those models available that are for sale. This will be accompanied by a slider that isolates the car models by the year they were created.\n",
    "\n",
    "**Price Analysis**\n",
    "\n",
    "We will also analyze the car data by creating a histogram and a scatterplot to show the distribution of price differences based on important factors such as car age, odometer (mileage), the vehicles condition, type and fuel requirements."
   ]
  },
  {
   "cell_type": "markdown",
   "id": "824cb91a-c2f3-4c97-8427-c83be052050f",
   "metadata": {},
   "source": [
    "## Data Pre-Processing"
   ]
  },
  {
   "cell_type": "code",
   "execution_count": 4,
   "id": "e476a58d-b893-41cf-a3aa-da1e99972a73",
   "metadata": {},
   "outputs": [],
   "source": [
    "import pandas as pd\n",
    "import numpy as np"
   ]
  },
  {
   "cell_type": "code",
   "execution_count": 6,
   "id": "b565afcc-ac9c-4570-85d5-2a412221051e",
   "metadata": {},
   "outputs": [],
   "source": [
    "df = pd.read_csv('../vehicles_us.csv')"
   ]
  },
  {
   "cell_type": "code",
   "execution_count": 8,
   "id": "54fadae3-3b9b-4ea4-9531-0c1a2c6dcba9",
   "metadata": {},
   "outputs": [
    {
     "data": {
      "text/html": [
       "<div>\n",
       "<style scoped>\n",
       "    .dataframe tbody tr th:only-of-type {\n",
       "        vertical-align: middle;\n",
       "    }\n",
       "\n",
       "    .dataframe tbody tr th {\n",
       "        vertical-align: top;\n",
       "    }\n",
       "\n",
       "    .dataframe thead th {\n",
       "        text-align: right;\n",
       "    }\n",
       "</style>\n",
       "<table border=\"1\" class=\"dataframe\">\n",
       "  <thead>\n",
       "    <tr style=\"text-align: right;\">\n",
       "      <th></th>\n",
       "      <th>price</th>\n",
       "      <th>model_year</th>\n",
       "      <th>model</th>\n",
       "      <th>condition</th>\n",
       "      <th>cylinders</th>\n",
       "      <th>fuel</th>\n",
       "      <th>odometer</th>\n",
       "      <th>transmission</th>\n",
       "      <th>type</th>\n",
       "      <th>paint_color</th>\n",
       "      <th>is_4wd</th>\n",
       "      <th>date_posted</th>\n",
       "      <th>days_listed</th>\n",
       "    </tr>\n",
       "  </thead>\n",
       "  <tbody>\n",
       "    <tr>\n",
       "      <th>0</th>\n",
       "      <td>9400</td>\n",
       "      <td>2011.0</td>\n",
       "      <td>bmw x5</td>\n",
       "      <td>good</td>\n",
       "      <td>6.0</td>\n",
       "      <td>gas</td>\n",
       "      <td>145000.0</td>\n",
       "      <td>automatic</td>\n",
       "      <td>SUV</td>\n",
       "      <td>NaN</td>\n",
       "      <td>1.0</td>\n",
       "      <td>2018-06-23</td>\n",
       "      <td>19</td>\n",
       "    </tr>\n",
       "    <tr>\n",
       "      <th>1</th>\n",
       "      <td>25500</td>\n",
       "      <td>NaN</td>\n",
       "      <td>ford f-150</td>\n",
       "      <td>good</td>\n",
       "      <td>6.0</td>\n",
       "      <td>gas</td>\n",
       "      <td>88705.0</td>\n",
       "      <td>automatic</td>\n",
       "      <td>pickup</td>\n",
       "      <td>white</td>\n",
       "      <td>1.0</td>\n",
       "      <td>2018-10-19</td>\n",
       "      <td>50</td>\n",
       "    </tr>\n",
       "    <tr>\n",
       "      <th>2</th>\n",
       "      <td>5500</td>\n",
       "      <td>2013.0</td>\n",
       "      <td>hyundai sonata</td>\n",
       "      <td>like new</td>\n",
       "      <td>4.0</td>\n",
       "      <td>gas</td>\n",
       "      <td>110000.0</td>\n",
       "      <td>automatic</td>\n",
       "      <td>sedan</td>\n",
       "      <td>red</td>\n",
       "      <td>NaN</td>\n",
       "      <td>2019-02-07</td>\n",
       "      <td>79</td>\n",
       "    </tr>\n",
       "    <tr>\n",
       "      <th>3</th>\n",
       "      <td>1500</td>\n",
       "      <td>2003.0</td>\n",
       "      <td>ford f-150</td>\n",
       "      <td>fair</td>\n",
       "      <td>8.0</td>\n",
       "      <td>gas</td>\n",
       "      <td>NaN</td>\n",
       "      <td>automatic</td>\n",
       "      <td>pickup</td>\n",
       "      <td>NaN</td>\n",
       "      <td>NaN</td>\n",
       "      <td>2019-03-22</td>\n",
       "      <td>9</td>\n",
       "    </tr>\n",
       "    <tr>\n",
       "      <th>4</th>\n",
       "      <td>14900</td>\n",
       "      <td>2017.0</td>\n",
       "      <td>chrysler 200</td>\n",
       "      <td>excellent</td>\n",
       "      <td>4.0</td>\n",
       "      <td>gas</td>\n",
       "      <td>80903.0</td>\n",
       "      <td>automatic</td>\n",
       "      <td>sedan</td>\n",
       "      <td>black</td>\n",
       "      <td>NaN</td>\n",
       "      <td>2019-04-02</td>\n",
       "      <td>28</td>\n",
       "    </tr>\n",
       "  </tbody>\n",
       "</table>\n",
       "</div>"
      ],
      "text/plain": [
       "   price  model_year           model  condition  cylinders fuel  odometer  \\\n",
       "0   9400      2011.0          bmw x5       good        6.0  gas  145000.0   \n",
       "1  25500         NaN      ford f-150       good        6.0  gas   88705.0   \n",
       "2   5500      2013.0  hyundai sonata   like new        4.0  gas  110000.0   \n",
       "3   1500      2003.0      ford f-150       fair        8.0  gas       NaN   \n",
       "4  14900      2017.0    chrysler 200  excellent        4.0  gas   80903.0   \n",
       "\n",
       "  transmission    type paint_color  is_4wd date_posted  days_listed  \n",
       "0    automatic     SUV         NaN     1.0  2018-06-23           19  \n",
       "1    automatic  pickup       white     1.0  2018-10-19           50  \n",
       "2    automatic   sedan         red     NaN  2019-02-07           79  \n",
       "3    automatic  pickup         NaN     NaN  2019-03-22            9  \n",
       "4    automatic   sedan       black     NaN  2019-04-02           28  "
      ]
     },
     "execution_count": 8,
     "metadata": {},
     "output_type": "execute_result"
    }
   ],
   "source": [
    "df.head() #get a general overview of the data"
   ]
  },
  {
   "cell_type": "code",
   "execution_count": 10,
   "id": "099b251b-2c83-4d2a-988c-b0166518bc79",
   "metadata": {},
   "outputs": [
    {
     "name": "stdout",
     "output_type": "stream",
     "text": [
      "<class 'pandas.core.frame.DataFrame'>\n",
      "RangeIndex: 51525 entries, 0 to 51524\n",
      "Data columns (total 13 columns):\n",
      " #   Column        Non-Null Count  Dtype  \n",
      "---  ------        --------------  -----  \n",
      " 0   price         51525 non-null  int64  \n",
      " 1   model_year    47906 non-null  float64\n",
      " 2   model         51525 non-null  object \n",
      " 3   condition     51525 non-null  object \n",
      " 4   cylinders     46265 non-null  float64\n",
      " 5   fuel          51525 non-null  object \n",
      " 6   odometer      43633 non-null  float64\n",
      " 7   transmission  51525 non-null  object \n",
      " 8   type          51525 non-null  object \n",
      " 9   paint_color   42258 non-null  object \n",
      " 10  is_4wd        25572 non-null  float64\n",
      " 11  date_posted   51525 non-null  object \n",
      " 12  days_listed   51525 non-null  int64  \n",
      "dtypes: float64(4), int64(2), object(7)\n",
      "memory usage: 5.1+ MB\n"
     ]
    }
   ],
   "source": [
    "df.info() #get a general overview of the data"
   ]
  },
  {
   "cell_type": "code",
   "execution_count": 12,
   "id": "23d00a65-933d-4da2-ab77-245f82a8277d",
   "metadata": {},
   "outputs": [],
   "source": [
    "df['model'] = df['model'].str.replace(r'[\\s-]', '_', regex=True) #removes whitespace and hypens from 'model' column."
   ]
  },
  {
   "cell_type": "code",
   "execution_count": 14,
   "id": "824a4303-76a7-4675-9d81-ec8699a77c24",
   "metadata": {},
   "outputs": [],
   "source": [
    "df['type'] = df['type'].str.lower() #lowercase the 'type' column"
   ]
  },
  {
   "cell_type": "code",
   "execution_count": 16,
   "id": "a72d9ffb-e429-4801-b23d-38912121fda5",
   "metadata": {},
   "outputs": [],
   "source": [
    "df = df.dropna().reset_index(drop=True) #drop missing values and reset the index while dropping the old index"
   ]
  },
  {
   "cell_type": "code",
   "execution_count": 18,
   "id": "2c540dcd-4417-45eb-872a-1e878bcc2053",
   "metadata": {},
   "outputs": [],
   "source": [
    "df['date_posted'] = pd.to_datetime(df['date_posted']) #convert 'date_posted' column to datetimeIndex type"
   ]
  },
  {
   "cell_type": "code",
   "execution_count": 20,
   "id": "34cd6412-1697-41fa-8317-a77a78178d1d",
   "metadata": {},
   "outputs": [],
   "source": [
    "df[['model_year','odometer','cylinders']] = df[['model_year','odometer','cylinders']].astype(int)  #convert float columns to integers"
   ]
  },
  {
   "cell_type": "code",
   "execution_count": 22,
   "id": "41bdfcff-ef71-4ae9-b7b9-32647e8ed383",
   "metadata": {},
   "outputs": [
    {
     "data": {
      "text/plain": [
       "0"
      ]
     },
     "execution_count": 22,
     "metadata": {},
     "output_type": "execute_result"
    }
   ],
   "source": [
    "df.duplicated().sum() #no duplicate rows"
   ]
  },
  {
   "cell_type": "code",
   "execution_count": 24,
   "id": "6d31addc-e51a-45ec-9eab-6e57a8dfb7fb",
   "metadata": {},
   "outputs": [
    {
     "data": {
      "text/html": [
       "<div>\n",
       "<style scoped>\n",
       "    .dataframe tbody tr th:only-of-type {\n",
       "        vertical-align: middle;\n",
       "    }\n",
       "\n",
       "    .dataframe tbody tr th {\n",
       "        vertical-align: top;\n",
       "    }\n",
       "\n",
       "    .dataframe thead th {\n",
       "        text-align: right;\n",
       "    }\n",
       "</style>\n",
       "<table border=\"1\" class=\"dataframe\">\n",
       "  <thead>\n",
       "    <tr style=\"text-align: right;\">\n",
       "      <th></th>\n",
       "      <th>price</th>\n",
       "      <th>model_year</th>\n",
       "      <th>model</th>\n",
       "      <th>condition</th>\n",
       "      <th>cylinders</th>\n",
       "      <th>fuel</th>\n",
       "      <th>odometer</th>\n",
       "      <th>transmission</th>\n",
       "      <th>type</th>\n",
       "      <th>paint_color</th>\n",
       "      <th>is_4wd</th>\n",
       "      <th>date_posted</th>\n",
       "      <th>days_listed</th>\n",
       "    </tr>\n",
       "  </thead>\n",
       "  <tbody>\n",
       "    <tr>\n",
       "      <th>0</th>\n",
       "      <td>14990</td>\n",
       "      <td>2014</td>\n",
       "      <td>chrysler_300</td>\n",
       "      <td>excellent</td>\n",
       "      <td>6</td>\n",
       "      <td>gas</td>\n",
       "      <td>57954</td>\n",
       "      <td>automatic</td>\n",
       "      <td>sedan</td>\n",
       "      <td>black</td>\n",
       "      <td>1.0</td>\n",
       "      <td>2018-06-20</td>\n",
       "      <td>15</td>\n",
       "    </tr>\n",
       "    <tr>\n",
       "      <th>1</th>\n",
       "      <td>15990</td>\n",
       "      <td>2013</td>\n",
       "      <td>honda_pilot</td>\n",
       "      <td>excellent</td>\n",
       "      <td>6</td>\n",
       "      <td>gas</td>\n",
       "      <td>109473</td>\n",
       "      <td>automatic</td>\n",
       "      <td>suv</td>\n",
       "      <td>black</td>\n",
       "      <td>1.0</td>\n",
       "      <td>2019-01-07</td>\n",
       "      <td>68</td>\n",
       "    </tr>\n",
       "    <tr>\n",
       "      <th>2</th>\n",
       "      <td>19500</td>\n",
       "      <td>2011</td>\n",
       "      <td>chevrolet_silverado_1500</td>\n",
       "      <td>excellent</td>\n",
       "      <td>8</td>\n",
       "      <td>gas</td>\n",
       "      <td>128413</td>\n",
       "      <td>automatic</td>\n",
       "      <td>pickup</td>\n",
       "      <td>black</td>\n",
       "      <td>1.0</td>\n",
       "      <td>2018-09-17</td>\n",
       "      <td>38</td>\n",
       "    </tr>\n",
       "    <tr>\n",
       "      <th>3</th>\n",
       "      <td>12990</td>\n",
       "      <td>2009</td>\n",
       "      <td>gmc_yukon</td>\n",
       "      <td>excellent</td>\n",
       "      <td>8</td>\n",
       "      <td>gas</td>\n",
       "      <td>132285</td>\n",
       "      <td>automatic</td>\n",
       "      <td>suv</td>\n",
       "      <td>black</td>\n",
       "      <td>1.0</td>\n",
       "      <td>2019-01-31</td>\n",
       "      <td>24</td>\n",
       "    </tr>\n",
       "    <tr>\n",
       "      <th>4</th>\n",
       "      <td>14990</td>\n",
       "      <td>2010</td>\n",
       "      <td>ram_1500</td>\n",
       "      <td>excellent</td>\n",
       "      <td>8</td>\n",
       "      <td>gas</td>\n",
       "      <td>130725</td>\n",
       "      <td>automatic</td>\n",
       "      <td>pickup</td>\n",
       "      <td>red</td>\n",
       "      <td>1.0</td>\n",
       "      <td>2018-12-30</td>\n",
       "      <td>13</td>\n",
       "    </tr>\n",
       "  </tbody>\n",
       "</table>\n",
       "</div>"
      ],
      "text/plain": [
       "   price  model_year                     model  condition  cylinders fuel  \\\n",
       "0  14990        2014              chrysler_300  excellent          6  gas   \n",
       "1  15990        2013               honda_pilot  excellent          6  gas   \n",
       "2  19500        2011  chevrolet_silverado_1500  excellent          8  gas   \n",
       "3  12990        2009                 gmc_yukon  excellent          8  gas   \n",
       "4  14990        2010                  ram_1500  excellent          8  gas   \n",
       "\n",
       "   odometer transmission    type paint_color  is_4wd date_posted  days_listed  \n",
       "0     57954    automatic   sedan       black     1.0  2018-06-20           15  \n",
       "1    109473    automatic     suv       black     1.0  2019-01-07           68  \n",
       "2    128413    automatic  pickup       black     1.0  2018-09-17           38  \n",
       "3    132285    automatic     suv       black     1.0  2019-01-31           24  \n",
       "4    130725    automatic  pickup         red     1.0  2018-12-30           13  "
      ]
     },
     "execution_count": 24,
     "metadata": {},
     "output_type": "execute_result"
    }
   ],
   "source": [
    "df.head() #check that changes have been applied"
   ]
  },
  {
   "cell_type": "code",
   "execution_count": 26,
   "id": "d492d9f3-2cb9-4078-bfa1-4d1df3b09a0a",
   "metadata": {},
   "outputs": [
    {
     "name": "stdout",
     "output_type": "stream",
     "text": [
      "<class 'pandas.core.frame.DataFrame'>\n",
      "RangeIndex: 14852 entries, 0 to 14851\n",
      "Data columns (total 13 columns):\n",
      " #   Column        Non-Null Count  Dtype         \n",
      "---  ------        --------------  -----         \n",
      " 0   price         14852 non-null  int64         \n",
      " 1   model_year    14852 non-null  int64         \n",
      " 2   model         14852 non-null  object        \n",
      " 3   condition     14852 non-null  object        \n",
      " 4   cylinders     14852 non-null  int64         \n",
      " 5   fuel          14852 non-null  object        \n",
      " 6   odometer      14852 non-null  int64         \n",
      " 7   transmission  14852 non-null  object        \n",
      " 8   type          14852 non-null  object        \n",
      " 9   paint_color   14852 non-null  object        \n",
      " 10  is_4wd        14852 non-null  float64       \n",
      " 11  date_posted   14852 non-null  datetime64[ns]\n",
      " 12  days_listed   14852 non-null  int64         \n",
      "dtypes: datetime64[ns](1), float64(1), int64(5), object(6)\n",
      "memory usage: 1.5+ MB\n"
     ]
    }
   ],
   "source": [
    "df.info() #check dtypes for date and integer changes"
   ]
  },
  {
   "cell_type": "markdown",
   "id": "3977cf7a-81c6-4631-8a4f-276a4dd2eea5",
   "metadata": {},
   "source": [
    "We discovered that there were 13 columns with 51525 rows. After removing all of the missing values 14852 rows remained. After that we cleaned up the data to remove whitespace and hypens. Then, made sure all of the data was lowercased to make sure we can spot duplicates easily.  "
   ]
  },
  {
   "cell_type": "markdown",
   "id": "4ad6f0bb-9496-4542-9813-908e0a8c000b",
   "metadata": {},
   "source": [
    "## Data Analysis"
   ]
  },
  {
   "cell_type": "code",
   "execution_count": 30,
   "id": "d9925eb2-ead3-42bb-a196-7003f2e38853",
   "metadata": {},
   "outputs": [],
   "source": [
    "car_model = sorted(df['model'].unique()) #extract the types of car models"
   ]
  },
  {
   "cell_type": "code",
   "execution_count": 32,
   "id": "b8407391-80d8-4231-915f-10669a68da5d",
   "metadata": {},
   "outputs": [
    {
     "data": {
      "text/plain": [
       "['acura_tl',\n",
       " 'bmw_x5',\n",
       " 'buick_enclave',\n",
       " 'cadillac_escalade',\n",
       " 'chevrolet_camaro',\n",
       " 'chevrolet_colorado',\n",
       " 'chevrolet_corvette',\n",
       " 'chevrolet_cruze',\n",
       " 'chevrolet_equinox',\n",
       " 'chevrolet_malibu',\n",
       " 'chevrolet_silverado',\n",
       " 'chevrolet_silverado_1500',\n",
       " 'chevrolet_silverado_1500_crew',\n",
       " 'chevrolet_silverado_2500hd',\n",
       " 'chevrolet_silverado_3500hd',\n",
       " 'chevrolet_suburban',\n",
       " 'chevrolet_tahoe',\n",
       " 'chevrolet_trailblazer',\n",
       " 'chevrolet_traverse',\n",
       " 'chrysler_200',\n",
       " 'chrysler_300',\n",
       " 'chrysler_town_&_country',\n",
       " 'dodge_charger',\n",
       " 'dodge_dakota',\n",
       " 'dodge_grand_caravan',\n",
       " 'ford_edge',\n",
       " 'ford_escape',\n",
       " 'ford_expedition',\n",
       " 'ford_explorer',\n",
       " 'ford_f150',\n",
       " 'ford_f150_supercrew_cab_xlt',\n",
       " 'ford_f250',\n",
       " 'ford_f250_super_duty',\n",
       " 'ford_f350',\n",
       " 'ford_f350_super_duty',\n",
       " 'ford_f_150',\n",
       " 'ford_f_250',\n",
       " 'ford_f_250_sd',\n",
       " 'ford_f_250_super_duty',\n",
       " 'ford_f_350_sd',\n",
       " 'ford_focus',\n",
       " 'ford_fusion',\n",
       " 'ford_fusion_se',\n",
       " 'ford_mustang',\n",
       " 'ford_ranger',\n",
       " 'ford_taurus',\n",
       " 'gmc_acadia',\n",
       " 'gmc_sierra',\n",
       " 'gmc_sierra_1500',\n",
       " 'gmc_sierra_2500hd',\n",
       " 'gmc_yukon',\n",
       " 'honda_accord',\n",
       " 'honda_civic',\n",
       " 'honda_civic_lx',\n",
       " 'honda_cr_v',\n",
       " 'honda_odyssey',\n",
       " 'honda_pilot',\n",
       " 'hyundai_santa_fe',\n",
       " 'hyundai_sonata',\n",
       " 'jeep_cherokee',\n",
       " 'jeep_grand_cherokee',\n",
       " 'jeep_grand_cherokee_laredo',\n",
       " 'jeep_liberty',\n",
       " 'jeep_wrangler',\n",
       " 'jeep_wrangler_unlimited',\n",
       " 'kia_sorento',\n",
       " 'nissan_altima',\n",
       " 'nissan_frontier',\n",
       " 'nissan_frontier_crew_cab_sv',\n",
       " 'nissan_murano',\n",
       " 'nissan_rogue',\n",
       " 'nissan_versa',\n",
       " 'ram_1500',\n",
       " 'ram_2500',\n",
       " 'ram_3500',\n",
       " 'subaru_forester',\n",
       " 'subaru_impreza',\n",
       " 'subaru_outback',\n",
       " 'toyota_4runner',\n",
       " 'toyota_camry',\n",
       " 'toyota_camry_le',\n",
       " 'toyota_corolla',\n",
       " 'toyota_highlander',\n",
       " 'toyota_rav4',\n",
       " 'toyota_sienna',\n",
       " 'toyota_tacoma',\n",
       " 'toyota_tundra',\n",
       " 'volkswagen_jetta',\n",
       " 'volkswagen_passat']"
      ]
     },
     "execution_count": 32,
     "metadata": {},
     "output_type": "execute_result"
    }
   ],
   "source": [
    "car_model #view the unique value of car models"
   ]
  },
  {
   "cell_type": "code",
   "execution_count": 34,
   "id": "586df4fc-19d4-465c-9382-66a038dcd500",
   "metadata": {},
   "outputs": [],
   "source": [
    "min_year, max_year = int(df['model_year'].min()), int(df['model_year'].max()) #get min and max model_year"
   ]
  },
  {
   "cell_type": "code",
   "execution_count": 36,
   "id": "5bc1316b-d152-4303-8993-5d7f4594fae7",
   "metadata": {},
   "outputs": [
    {
     "data": {
      "text/plain": [
       "(1965, 2019)"
      ]
     },
     "execution_count": 36,
     "metadata": {},
     "output_type": "execute_result"
    }
   ],
   "source": [
    "min_year, max_year"
   ]
  },
  {
   "cell_type": "markdown",
   "id": "5dc02b8d-4bf9-4904-82fa-113fdd99adeb",
   "metadata": {},
   "source": [
    "We needed to analysis the data to extract the unique vehicle models and the years those models were created in order to create an application select box and slider for our customers to navigate by model_year and car_model. These navigation features will allow them to access all of the data based off their selected criteria."
   ]
  },
  {
   "cell_type": "markdown",
   "id": "f73ab548-5703-4a4c-bb68-d8a9aed2c559",
   "metadata": {},
   "source": [
    "## Feature Engineering"
   ]
  },
  {
   "cell_type": "code",
   "execution_count": 40,
   "id": "8ccfd3fe-4b87-4433-93e4-d044f21b9b2a",
   "metadata": {},
   "outputs": [],
   "source": [
    "def age_category(x):      #create a function to define by age\n",
    "    if x<5: return '<5'\n",
    "    elif x>=5 and x<10: return '5-10'\n",
    "    elif x>=10 and x<20: return '10-20'\n",
    "    else: return '>20'"
   ]
  },
  {
   "cell_type": "code",
   "execution_count": 42,
   "id": "34c04573-b195-4df1-91a4-a98e6de9c3d8",
   "metadata": {},
   "outputs": [],
   "source": [
    "df['age'] = 2024 - df['model_year'] #calculate the age of the cars"
   ]
  },
  {
   "cell_type": "code",
   "execution_count": 44,
   "id": "9920d379-bc8c-42e1-bd7c-a3993548f9de",
   "metadata": {},
   "outputs": [],
   "source": [
    "df['age_category'] = df['age'].apply(age_category) #apply the function to the data"
   ]
  },
  {
   "cell_type": "code",
   "execution_count": 46,
   "id": "5680338c-00f9-42ef-a7c8-df639e7cf331",
   "metadata": {},
   "outputs": [
    {
     "data": {
      "text/html": [
       "<div>\n",
       "<style scoped>\n",
       "    .dataframe tbody tr th:only-of-type {\n",
       "        vertical-align: middle;\n",
       "    }\n",
       "\n",
       "    .dataframe tbody tr th {\n",
       "        vertical-align: top;\n",
       "    }\n",
       "\n",
       "    .dataframe thead th {\n",
       "        text-align: right;\n",
       "    }\n",
       "</style>\n",
       "<table border=\"1\" class=\"dataframe\">\n",
       "  <thead>\n",
       "    <tr style=\"text-align: right;\">\n",
       "      <th></th>\n",
       "      <th>price</th>\n",
       "      <th>model_year</th>\n",
       "      <th>model</th>\n",
       "      <th>condition</th>\n",
       "      <th>cylinders</th>\n",
       "      <th>fuel</th>\n",
       "      <th>odometer</th>\n",
       "      <th>transmission</th>\n",
       "      <th>type</th>\n",
       "      <th>paint_color</th>\n",
       "      <th>is_4wd</th>\n",
       "      <th>date_posted</th>\n",
       "      <th>days_listed</th>\n",
       "      <th>age</th>\n",
       "      <th>age_category</th>\n",
       "    </tr>\n",
       "  </thead>\n",
       "  <tbody>\n",
       "    <tr>\n",
       "      <th>0</th>\n",
       "      <td>14990</td>\n",
       "      <td>2014</td>\n",
       "      <td>chrysler_300</td>\n",
       "      <td>excellent</td>\n",
       "      <td>6</td>\n",
       "      <td>gas</td>\n",
       "      <td>57954</td>\n",
       "      <td>automatic</td>\n",
       "      <td>sedan</td>\n",
       "      <td>black</td>\n",
       "      <td>1.0</td>\n",
       "      <td>2018-06-20</td>\n",
       "      <td>15</td>\n",
       "      <td>10</td>\n",
       "      <td>10-20</td>\n",
       "    </tr>\n",
       "    <tr>\n",
       "      <th>1</th>\n",
       "      <td>15990</td>\n",
       "      <td>2013</td>\n",
       "      <td>honda_pilot</td>\n",
       "      <td>excellent</td>\n",
       "      <td>6</td>\n",
       "      <td>gas</td>\n",
       "      <td>109473</td>\n",
       "      <td>automatic</td>\n",
       "      <td>suv</td>\n",
       "      <td>black</td>\n",
       "      <td>1.0</td>\n",
       "      <td>2019-01-07</td>\n",
       "      <td>68</td>\n",
       "      <td>11</td>\n",
       "      <td>10-20</td>\n",
       "    </tr>\n",
       "    <tr>\n",
       "      <th>2</th>\n",
       "      <td>19500</td>\n",
       "      <td>2011</td>\n",
       "      <td>chevrolet_silverado_1500</td>\n",
       "      <td>excellent</td>\n",
       "      <td>8</td>\n",
       "      <td>gas</td>\n",
       "      <td>128413</td>\n",
       "      <td>automatic</td>\n",
       "      <td>pickup</td>\n",
       "      <td>black</td>\n",
       "      <td>1.0</td>\n",
       "      <td>2018-09-17</td>\n",
       "      <td>38</td>\n",
       "      <td>13</td>\n",
       "      <td>10-20</td>\n",
       "    </tr>\n",
       "    <tr>\n",
       "      <th>3</th>\n",
       "      <td>12990</td>\n",
       "      <td>2009</td>\n",
       "      <td>gmc_yukon</td>\n",
       "      <td>excellent</td>\n",
       "      <td>8</td>\n",
       "      <td>gas</td>\n",
       "      <td>132285</td>\n",
       "      <td>automatic</td>\n",
       "      <td>suv</td>\n",
       "      <td>black</td>\n",
       "      <td>1.0</td>\n",
       "      <td>2019-01-31</td>\n",
       "      <td>24</td>\n",
       "      <td>15</td>\n",
       "      <td>10-20</td>\n",
       "    </tr>\n",
       "    <tr>\n",
       "      <th>4</th>\n",
       "      <td>14990</td>\n",
       "      <td>2010</td>\n",
       "      <td>ram_1500</td>\n",
       "      <td>excellent</td>\n",
       "      <td>8</td>\n",
       "      <td>gas</td>\n",
       "      <td>130725</td>\n",
       "      <td>automatic</td>\n",
       "      <td>pickup</td>\n",
       "      <td>red</td>\n",
       "      <td>1.0</td>\n",
       "      <td>2018-12-30</td>\n",
       "      <td>13</td>\n",
       "      <td>14</td>\n",
       "      <td>10-20</td>\n",
       "    </tr>\n",
       "  </tbody>\n",
       "</table>\n",
       "</div>"
      ],
      "text/plain": [
       "   price  model_year                     model  condition  cylinders fuel  \\\n",
       "0  14990        2014              chrysler_300  excellent          6  gas   \n",
       "1  15990        2013               honda_pilot  excellent          6  gas   \n",
       "2  19500        2011  chevrolet_silverado_1500  excellent          8  gas   \n",
       "3  12990        2009                 gmc_yukon  excellent          8  gas   \n",
       "4  14990        2010                  ram_1500  excellent          8  gas   \n",
       "\n",
       "   odometer transmission    type paint_color  is_4wd date_posted  days_listed  \\\n",
       "0     57954    automatic   sedan       black     1.0  2018-06-20           15   \n",
       "1    109473    automatic     suv       black     1.0  2019-01-07           68   \n",
       "2    128413    automatic  pickup       black     1.0  2018-09-17           38   \n",
       "3    132285    automatic     suv       black     1.0  2019-01-31           24   \n",
       "4    130725    automatic  pickup         red     1.0  2018-12-30           13   \n",
       "\n",
       "   age age_category  \n",
       "0   10        10-20  \n",
       "1   11        10-20  \n",
       "2   13        10-20  \n",
       "3   15        10-20  \n",
       "4   14        10-20  "
      ]
     },
     "execution_count": 46,
     "metadata": {},
     "output_type": "execute_result"
    }
   ],
   "source": [
    "df.head() #view the data to make sure the function applied"
   ]
  },
  {
   "cell_type": "markdown",
   "id": "c8289067-cb23-47fe-b9a4-265455c49eb5",
   "metadata": {},
   "source": [
    "We wanted to create an application for customers to navigate price distributions especially by the age of the car. So we created a function for customers to help them analysis the differences in these features easier."
   ]
  }
 ],
 "metadata": {
  "kernelspec": {
   "display_name": "Python [conda env:base]",
   "language": "python",
   "name": "conda-base-py"
  },
  "language_info": {
   "codemirror_mode": {
    "name": "ipython",
    "version": 3
   },
   "file_extension": ".py",
   "mimetype": "text/x-python",
   "name": "python",
   "nbconvert_exporter": "python",
   "pygments_lexer": "ipython3",
   "version": "3.12.7"
  }
 },
 "nbformat": 4,
 "nbformat_minor": 5
}
